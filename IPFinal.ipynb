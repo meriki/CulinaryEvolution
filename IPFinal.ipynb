{
 "cells": [
  {
   "cell_type": "markdown",
   "metadata": {},
   "source": [
    "# Analysis on the evolution of Indian Cuisine over time "
   ]
  },
  {
   "cell_type": "markdown",
   "metadata": {},
   "source": [
    "### Initializing for modelling"
   ]
  },
  {
   "cell_type": "code",
   "execution_count": 1,
   "metadata": {
    "collapsed": true
   },
   "outputs": [],
   "source": [
    "import numpy as np\n",
    "from collections import defaultdict, OrderedDict\n",
    "import random as rn\n",
    "from copy import copy\n",
    "import math\n",
    "%matplotlib inline\n",
    "import matplotlib as mpl\n",
    "import matplotlib.pyplot as plt\n",
    "mpl.rcParams['figure.figsize'] = (9,9)"
   ]
  },
  {
   "cell_type": "markdown",
   "metadata": {},
   "source": [
    "Load dataset Recipes and Ingredients. They contain the following information:\n",
    "\n",
    "__Recipe_Details__: Recipe ID,Title,Source,Cuisine,No. of Ingredients\n",
    "\n",
    "__Recipe_Ingredients__: Recipe ID,Original Ingredient Name,Aliased Ingredient Name,Entity ID\n"
   ]
  },
  {
   "cell_type": "code",
   "execution_count": 2,
   "metadata": {
    "collapsed": true
   },
   "outputs": [],
   "source": [
    "recipe = open('Recipe_Details.txt')\n",
    "ingredient = open('Recipe-Ingredients_Aliases.txt')\n",
    "recipes_ = recipe.readlines()\n",
    "# print(recipes_[0])\n",
    "recipes_ = recipes_[1:]\n",
    "ingredients_ = ingredient.readlines()\n",
    "# print(ingredients_[0])\n",
    "ingredients_ = ingredients_[1:]"
   ]
  },
  {
   "cell_type": "code",
   "execution_count": 3,
   "metadata": {},
   "outputs": [
    {
     "name": "stdout",
     "output_type": "stream",
     "text": [
      "Length of unique ingredients:  724\n"
     ]
    }
   ],
   "source": [
    "Recipes = defaultdict(list)\n",
    "Ingredients = set()\n",
    "for each in ingredients_:\n",
    "    line = each.strip().split(',')\n",
    "    if line[-1]!='-':\n",
    "        Ingredients.add(line[-1])\n",
    "        Recipes[line[0]].append(line[-1])\n",
    "\n",
    "print(\"Length of unique ingredients: \",len(Ingredients))"
   ]
  },
  {
   "cell_type": "markdown",
   "metadata": {},
   "source": [
    "Ingredients are not depicted by a continuous range of numbers. So, create a dictionary mapping the actual ingredient number with a continous number"
   ]
  },
  {
   "cell_type": "code",
   "execution_count": 4,
   "metadata": {
    "collapsed": true
   },
   "outputs": [],
   "source": [
    "ING_DICT = {}\n",
    "for n,i in enumerate(Ingredients):\n",
    "    ING_DICT[i] = n"
   ]
  },
  {
   "cell_type": "markdown",
   "metadata": {},
   "source": [
    "Calculate the probabilities of recipes having ingredients more than, less than or equal to the average number of ingredients in a recipes"
   ]
  },
  {
   "cell_type": "code",
   "execution_count": 5,
   "metadata": {},
   "outputs": [
    {
     "name": "stdout",
     "output_type": "stream",
     "text": [
      "9.730297624282322 1 63\n",
      "{'delete': 53.39711295651847, 'modify': 17.335452341168637, 'add': 29.2674347023129}\n"
     ]
    }
   ],
   "source": [
    "s = []\n",
    "for each in Recipes:\n",
    "    s.append(len(Recipes[each]))\n",
    "avg = sum(s)/len(s)\n",
    "print(avg,min(s),max(s))\n",
    "less=0\n",
    "more=0\n",
    "same=0\n",
    "for each in s:\n",
    "    if each<avg:\n",
    "        less+=1\n",
    "    elif each in list(range(int(avg)-3,int(avg)+3)):\n",
    "        same+=1\n",
    "    else:\n",
    "        more+=1\n",
    "# print(len(s),list(range(int(avg)-3,int(avg)+3)),less,more,same)\n",
    "prob = {}\n",
    "prob['delete'] = (less/len(s))*100\n",
    "prob['modify'] = (same/len(s))*100\n",
    "prob['add'] = (more/len(s))*100\n",
    "print(prob)"
   ]
  },
  {
   "cell_type": "code",
   "execution_count": 6,
   "metadata": {
    "scrolled": true
   },
   "outputs": [
    {
     "name": "stdout",
     "output_type": "stream",
     "text": [
      "length of recipes: 159194, length of unique ingredients724\n"
     ]
    }
   ],
   "source": [
    "ingredients = list(range(len(Ingredients)))\n",
    "print('length of recipes: ' + str(len(Recipes)) + ', length of unique ingredients' + str(len(ingredients)))"
   ]
  },
  {
   "cell_type": "markdown",
   "metadata": {},
   "source": [
    "Define fitness functions for calculating fitness of each ingredient.\n",
    "We assign fitness values in the following ways: <br>\n",
    "-  random fitness values between 0,1 from a uniform distribution <br>\n",
    "-  fitness values to ingredients based on how often they occur in the recipes dataset"
   ]
  },
  {
   "cell_type": "code",
   "execution_count": 7,
   "metadata": {
    "collapsed": true
   },
   "outputs": [],
   "source": [
    "def random_fitness():\n",
    "    fitness={}\n",
    "    for ing in ingredients:\n",
    "        fitness[ing] = rn.uniform(0,1.0)\n",
    "    return fitness\n",
    "def frequency_weighted_fitness():\n",
    "    fitness={}\n",
    "    ings = defaultdict(int)\n",
    "    for r in Recipes:\n",
    "        for ing in Recipes[r]:            \n",
    "            ings[ING_DICT[ing]]+= 1\n",
    "    summ = sum(ings.values())\n",
    "    for ing in ings:\n",
    "        fitness[ing] = ings[ing]/summ\n",
    "    return fitness"
   ]
  },
  {
   "cell_type": "code",
   "execution_count": 8,
   "metadata": {
    "collapsed": true
   },
   "outputs": [],
   "source": [
    "M = len(ingredients)/len(Recipes)"
   ]
  },
  {
   "cell_type": "markdown",
   "metadata": {},
   "source": [
    "### Mathematical modelling"
   ]
  },
  {
   "cell_type": "markdown",
   "metadata": {},
   "source": [
    "First choose random recipes and then make random ingredient list from it <br>\n",
    "When we evolve our recipes over time, we maintain the ration of length of ingredients to length of recipes(M) constant "
   ]
  },
  {
   "cell_type": "markdown",
   "metadata": {},
   "source": [
    "Here, K is the average number of recipes, L is the number of ingredients we want\n",
    "to modify/delete/add to one recipe in one iteration"
   ]
  },
  {
   "cell_type": "code",
   "execution_count": 9,
   "metadata": {
    "collapsed": true
   },
   "outputs": [],
   "source": [
    "K = int(avg) \n",
    "L = 4"
   ]
  },
  {
   "cell_type": "markdown",
   "metadata": {},
   "source": [
    "The following are helper functions to \n",
    "- choose_ings_to_modify_with: choose which ingredients will replace the existing ones in the recipe\n",
    "- add_new_I: add new ingredients to our new ingredients list to maintain the ratio of length of ingredients to length of recipes"
   ]
  },
  {
   "cell_type": "code",
   "execution_count": 10,
   "metadata": {
    "collapsed": true
   },
   "outputs": [],
   "source": [
    "def choose_ings_to_modify_with(I,L,recipe):\n",
    "    temp_I_set = set(I)\n",
    "    temp_I_set = temp_I_set.difference(set(recipe))\n",
    "    modify_with = rn.sample(temp_I_set,L)\n",
    "    return modify_with\n",
    "\n",
    "def add_new_I(M,I,R,ingredients):\n",
    "    temp_ing_set = set(ingredients)\n",
    "    temp_ing_set = temp_ing_set.difference(set(I))\n",
    "    more_i = int(M*len(R) - len(I))\n",
    "    t = rn.sample(temp_ing_set,more_i)\n",
    "    return t"
   ]
  },
  {
   "cell_type": "markdown",
   "metadata": {},
   "source": [
    "## The Model\n",
    "\n",
    "We slowly model a cuisine from the start"
   ]
  },
  {
   "cell_type": "markdown",
   "metadata": {},
   "source": [
    "- First, we consider a random set of ingredients and create a set number (30) of receipes form them. <br>\n",
    "- With each iteration, we pick a recipe, select L ingredients to modify and add these new recipes created to our recipes list.<br>\n",
    "- The ingredients are modified if the fitness value of the ingredient to be replaced is less than the fitness value of the ingredient randomly selected to replace it.<br>\n",
    "- There are two kinds of fitness functions we will experiment with: random fitness and frequency weithed fitness\n",
    "- Then add new ingredients in ratio to the number of new recipes formed. <br>\n",
    "- Continue this till there are no new recipes to add "
   ]
  },
  {
   "cell_type": "code",
   "execution_count": 11,
   "metadata": {
    "collapsed": true
   },
   "outputs": [],
   "source": [
    "fit= []\n",
    "fit.append(random_fitness())\n",
    "fit.append(frequency_weighted_fitness())"
   ]
  },
  {
   "cell_type": "code",
   "execution_count": 12,
   "metadata": {},
   "outputs": [
    {
     "name": "stdout",
     "output_type": "stream",
     "text": [
      "0,1,2,3,4,5,6,7,8,9,0,1,2,3,4,5,6,7,8,9,"
     ]
    }
   ],
   "source": [
    "ings_used_n_list = []\n",
    "sorted_ings_used_n_list = []\n",
    "RSN_list = [] \n",
    "\n",
    "for i in range(2):\n",
    "    fitness = fit[i]\n",
    "    \n",
    "    ings_used_n = [] #all ingredients used\n",
    "    sorted_ings_used_n = []\n",
    "    number = 0\n",
    "    RSN=[]\n",
    "\n",
    "    for number in range(10):\n",
    "\n",
    "        ans = []\n",
    "        I0 = rn.sample(ingredients,30)\n",
    "        len_R0 = int(len(I0)/M)\n",
    "        R0 = defaultdict(list)\n",
    "        for i in range(len_R0):\n",
    "            R0[i] = rn.sample(I0,int(avg)) #avg = avg length of recipes\n",
    "\n",
    "        R=R0\n",
    "        I=I0\n",
    "        ings_used_n.append(defaultdict(int))\n",
    "        T = 0\n",
    "        while(len(I)<len(ingredients)):\n",
    "\n",
    "            temp_r = rn.sample(range(len(R)),1)[0]    \n",
    "\n",
    "            to_modify_ings_indices_from_recipe = rn.sample(range(K),L)\n",
    "            modify_with_direct_ingredients = choose_ings_to_modify_with(I,L,R[temp_r])\n",
    "\n",
    "            new_r = R[temp_r].copy()\n",
    "            num=0\n",
    "\n",
    "            for x,y in zip(to_modify_ings_indices_from_recipe,modify_with_direct_ingredients):          \n",
    "                if fitness[R[temp_r][x]]<fitness[y]:\n",
    "                        new_r[x] = y\n",
    "                num+=1\n",
    "            R[len(R)]=new_r\n",
    "            h = add_new_I(M,I,R,ingredients)\n",
    "            if h !=[]:\n",
    "                I.extend(h)\n",
    "            T+= 1\n",
    "        RSN.append(R)\n",
    "        print(number,end=',')    \n",
    "        \n",
    "        for recipe in R:\n",
    "            for ing in R[recipe]:\n",
    "                ings_used_n[number][ing]+= 1\n",
    "        sorted_ings_used_n.append(sorted(ings_used_n[number].values(),reverse=True)) #sorted list of ing frequencies\n",
    "    \n",
    "    ings_used_n_list.append(ings_used_n)\n",
    "    sorted_ings_used_n_list.append(sorted_ings_used_n)\n",
    "    RSN_list.append(RSN)\n",
    "\n",
    "\n",
    "# print(max_ing[sorted(max_ing)[0]])"
   ]
  },
  {
   "cell_type": "markdown",
   "metadata": {},
   "source": [
    "The following cuisine model brings a little more complexity in the modelling. Here, cuisines can be of different lengths. So, we can add/delete along with being able to modify ingredients in each iteration. This is done in accordance with the probabilities calculated at the start- probability of length greater than average occouring is the probability that ingredient is added, probabilities of lengths less than average occuring is probabiilty that ingredients can be deleted and probability that the length remains average +/-3 is probability that ingredient can be replaced."
   ]
  },
  {
   "cell_type": "code",
   "execution_count": 13,
   "metadata": {},
   "outputs": [
    {
     "name": "stdout",
     "output_type": "stream",
     "text": [
      "0,1,2,3,4,5,6,7,8,9,0,1,2,3,4,5,6,7,8,9,"
     ]
    }
   ],
   "source": [
    "ings_used_list = []\n",
    "sorted_ings_used_list = []\n",
    "RS_list = [] \n",
    "\n",
    "for i in range(2):\n",
    "    fitness = fit[i]\n",
    "    \n",
    "    ings_used = [] #all ingredients used\n",
    "    sorted_ings_used = []\n",
    "    number = 0\n",
    "    RS=[]\n",
    "\n",
    "    for number in range(10):\n",
    "        ans = []\n",
    "        I0 = rn.sample(ingredients,30)\n",
    "        len_R0 = int(len(I0)/M)\n",
    "        R0 = defaultdict(list)\n",
    "        for i in range(len_R0):\n",
    "            R0[i] = rn.sample(I0,int(avg)) #avg = avg length of recipes\n",
    "\n",
    "        R=R0\n",
    "        I=I0\n",
    "        ings_used.append(defaultdict(int))\n",
    "        T = 0\n",
    "        while(len(I)<len(ingredients)):\n",
    "\n",
    "            temp_r = rn.sample(range(len(R)),1)[0]\n",
    "            if R[temp_r]==[]:\n",
    "                continue\n",
    "            which = []\n",
    "            if len(R[temp_r])>L:\n",
    "                for e in range(L):\n",
    "                    which.append(rn.randint(1,100))\n",
    "                    l=L\n",
    "            else:\n",
    "                for e in range(len(R[temp_r])):\n",
    "                    which.append(rn.randint(1,100))\n",
    "                    l=len(R[temp_r])\n",
    "            k=len(R[temp_r])\n",
    "\n",
    "            to_modify_ings_indices_from_recipe = rn.sample(range(k),l)\n",
    "            modify_with_direct_ingredients = choose_ings_to_modify_with(I,l,R[temp_r])\n",
    "\n",
    "            new_r = R[temp_r].copy()\n",
    "            num=0\n",
    "            indices_to_delete=[]\n",
    "            for x,y in zip(to_modify_ings_indices_from_recipe,modify_with_direct_ingredients):\n",
    "                if which[num]<prob['delete']:#delete\n",
    "\n",
    "                    indices_to_delete.append(x)\n",
    "                elif which[num]<=prob['modify']+prob['delete']:#modify\n",
    "                    if fitness[R[temp_r][x]]<fitness[y]:\n",
    "                        new_r[x] = y\n",
    "                elif which[num]<100:#add\n",
    "                    new_r.append(y)\n",
    "                num+=1\n",
    "            indices_to_delete = sorted(indices_to_delete,reverse=True)\n",
    "            for f in indices_to_delete:\n",
    "                del new_r[f]\n",
    "            R[len(R)]=new_r\n",
    "\n",
    "            h = add_new_I(M,I,R,ingredients)\n",
    "            if h !=[]:\n",
    "                I.extend(h)\n",
    "\n",
    "            T+= 1\n",
    "        RS.append(R)\n",
    "        print(number,end=',')\n",
    "\n",
    "        for recipe in R:\n",
    "            for ing in R[recipe]:\n",
    "                ings_used[number][ing]+= 1\n",
    "        sorted_ings_used.append(sorted(ings_used[number].values(),reverse=True))\n",
    "\n",
    "    ings_used_list.append(ings_used)\n",
    "    sorted_ings_used_list.append(sorted_ings_used)\n",
    "    RS_list.append(RS)\n",
    "    \n",
    "\n",
    "# print(max_ing[sorted(max_ing)[0]])"
   ]
  },
  {
   "cell_type": "markdown",
   "metadata": {},
   "source": [
    "Some ingredients are being left out. See if some are consistently left out"
   ]
  },
  {
   "cell_type": "code",
   "execution_count": 14,
   "metadata": {
    "collapsed": true
   },
   "outputs": [],
   "source": [
    "left = []\n",
    "left.append(defaultdict(int))\n",
    "left.append(defaultdict(int))"
   ]
  },
  {
   "cell_type": "markdown",
   "metadata": {},
   "source": [
    "graph of left out ingredients in the random fitness plots.\n",
    "ingredient index vs no. of times left out in "
   ]
  },
  {
   "cell_type": "code",
   "execution_count": 15,
   "metadata": {},
   "outputs": [
    {
     "name": "stdout",
     "output_type": "stream",
     "text": [
      "0,1,2,3,4,5,6,7,8,9,"
     ]
    },
    {
     "data": {
      "image/png": "[encoded data removed]",
      "text/plain": [
       "<Figure size 648x648 with 1 Axes>"
      ]
     },
     "metadata": {},
     "output_type": "display_data"
    }
   ],
   "source": [
    "colors = ['r','b','g','c','m','y','k','#efefef','#555555','#242424']\n",
    "for j in [0]:\n",
    "    temp = set()\n",
    "    for number,RS in enumerate(RS_list[j]):\n",
    "        for R in RS:\n",
    "            for ing in ingredients:\n",
    "#                 print(ingredients)\n",
    "                if ings_used_list[j][number][ing] == 0:\n",
    "                    left[j][ing]+=1\n",
    "        x = OrderedDict(left[j])\n",
    "        plt.plot(x.keys(),x.values(),colors[number])\n",
    "        print(number,end=',')"
   ]
  },
  {
   "cell_type": "code",
   "execution_count": 16,
   "metadata": {
    "scrolled": true
   },
   "outputs": [
    {
     "data": {
      "text/plain": [
       "([],\n",
       " [30,\n",
       "  34,\n",
       "  70,\n",
       "  236,\n",
       "  249,\n",
       "  261,\n",
       "  289,\n",
       "  316,\n",
       "  335,\n",
       "  362,\n",
       "  394,\n",
       "  397,\n",
       "  415,\n",
       "  423,\n",
       "  429,\n",
       "  461,\n",
       "  473,\n",
       "  521,\n",
       "  538,\n",
       "  545,\n",
       "  551,\n",
       "  609,\n",
       "  690,\n",
       "  703,\n",
       "  709],\n",
       " 724)"
      ]
     },
     "execution_count": 16,
     "metadata": {},
     "output_type": "execute_result"
    }
   ],
   "source": [
    "sorted(left[1]),sorted(left[0]),len(ingredients)"
   ]
  },
  {
   "cell_type": "markdown",
   "metadata": {},
   "source": [
    "From the above we see that consistently the"
   ]
  },
  {
   "cell_type": "markdown",
   "metadata": {},
   "source": [
    "To plot the ingrdient popularity curve across all"
   ]
  },
  {
   "cell_type": "markdown",
   "metadata": {},
   "source": [
    "maxx is the value of the max number of ingredients used across 10 iterations. Then this value is normalised to plot frequency graph"
   ]
  },
  {
   "cell_type": "code",
   "execution_count": 17,
   "metadata": {
    "collapsed": true
   },
   "outputs": [],
   "source": [
    "maxx=[]\n",
    "for t in sorted_ings_used:\n",
    "    maxx.append(len(t))\n",
    "maxx=max(maxx) #max length of ingredients\n",
    "for each in sorted_ings_used_n_list[0]:\n",
    "    for i in range(maxx-len(each)):\n",
    "        each.append(0)"
   ]
  },
  {
   "cell_type": "markdown",
   "metadata": {},
   "source": [
    "1. Plot the fitness values of the ingredients that have been left out\n",
    "y = no. of times being left out\n",
    "x = fitness values\n",
    "\n",
    "2. Standard deviation of ingredient popularity along with mean."
   ]
  },
  {
   "cell_type": "markdown",
   "metadata": {},
   "source": [
    "This is to calculate the frequency graph"
   ]
  },
  {
   "cell_type": "code",
   "execution_count": 19,
   "metadata": {
    "collapsed": true
   },
   "outputs": [],
   "source": [
    "Length_recipes = []"
   ]
  },
  {
   "cell_type": "code",
   "execution_count": 29,
   "metadata": {
    "collapsed": true
   },
   "outputs": [],
   "source": [
    "length_recipes = []\n",
    "for R in RS_list[1]:\n",
    "    temp = []\n",
    "    for num in R:\n",
    "        temp.append(len(R[num]))\n",
    "    length_recipes.append(temp)"
   ]
  },
  {
   "cell_type": "code",
   "execution_count": 30,
   "metadata": {
    "collapsed": true
   },
   "outputs": [],
   "source": [
    "#random_no_modifications_length_recipes\n",
    "Length_recipes.append(length_recipes)"
   ]
  },
  {
   "cell_type": "code",
   "execution_count": 31,
   "metadata": {},
   "outputs": [
    {
     "data": {
      "text/plain": [
       "4"
      ]
     },
     "execution_count": 31,
     "metadata": {},
     "output_type": "execute_result"
    }
   ],
   "source": [
    "len(Length_recipes)"
   ]
  },
  {
   "cell_type": "code",
   "execution_count": 119,
   "metadata": {
    "collapsed": true
   },
   "outputs": [],
   "source": [
    "names = ['random fitness: constant length recipe','frequency weighted fitness: constant length','random fitness: variable length recipe','frequency weighted fitness: variable length']"
   ]
  },
  {
   "cell_type": "code",
   "execution_count": 121,
   "metadata": {},
   "outputs": [
    {
     "data": {
      "image/png": "[encoded data removed]",
      "text/plain": [
       "<Figure size 648x648 with 8 Axes>"
      ]
     },
     "metadata": {},
     "output_type": "display_data"
    },
    {
     "data": {
      "text/plain": [
       "<Figure size 6000x6000 with 0 Axes>"
      ]
     },
     "metadata": {},
     "output_type": "display_data"
    }
   ],
   "source": [
    "fig, axs = plt.subplots(2, 4)\n",
    "for i in range(4):\n",
    "    n1,b,l=plt.hist(Length_recipes[i][0])\n",
    "    n2,b,l=plt.hist(Length_recipes[i][1])\n",
    "    n3,b,l=plt.hist(Length_recipes[i][2])\n",
    "    n4,b,l=plt.hist(Length_recipes[i][3])\n",
    "    n5,b,l=plt.hist(Length_recipes[i][4])\n",
    "    n6,b,l=plt.hist(Length_recipes[i][5])\n",
    "    n7,b,l=plt.hist(Length_recipes[i][6])\n",
    "    n8,b,l=plt.hist(Length_recipes[i][7])\n",
    "    n9,b,l=plt.hist(Length_recipes[i][8])\n",
    "    n10,b,l=plt.hist(Length_recipes[i][9])\n",
    "#     num=220+i+1\n",
    "#     plt.subplot(num)\n",
    "    if i==0:\n",
    "        a=0\n",
    "        b=0\n",
    "    elif i==1:\n",
    "        a=0\n",
    "        b=2\n",
    "    elif i==2:\n",
    "        a=1\n",
    "        b=0\n",
    "    else:\n",
    "        a=1\n",
    "        b=2\n",
    "        \n",
    "    axs[a,b].plot(n10)\n",
    "    axs[a,b].plot(n9)\n",
    "    axs[a,b].plot(n8)\n",
    "    axs[a,b].plot(n7)\n",
    "    axs[a,b].plot(n6)\n",
    "    axs[a,b].plot(n5)\n",
    "    axs[a,b].plot(n4)\n",
    "    axs[a,b].plot(n3)\n",
    "    axs[a,b].plot(n2)\n",
    "    axs[a,b].plot(n1)\n",
    "    \n",
    "    axs[a,b].set_title(names[i])\n",
    "    \n",
    "plt.xlabel('length of recipe')\n",
    "plt.ylabel('number of recipes with said length')\n",
    "plt.figure(num=None, figsize=(60, 60), dpi=100)\n",
    "axs[0,1].set_visible(False)\n",
    "axs[0,3].set_visible(False)\n",
    "axs[1,1].set_visible(False)\n",
    "axs[1,3].set_visible(False)\n",
    "plt.show()"
   ]
  },
  {
   "cell_type": "code",
   "execution_count": 101,
   "metadata": {
    "collapsed": true
   },
   "outputs": [],
   "source": [
    "ING_USED_ALL = []"
   ]
  },
  {
   "cell_type": "code",
   "execution_count": 112,
   "metadata": {
    "collapsed": true
   },
   "outputs": [],
   "source": [
    "ING_USED = []\n",
    "for ing in range(maxx):\n",
    "    temp=0\n",
    "    for i in range(10):\n",
    "        temp += sorted_ings_used_n_list[1][i][ing]\n",
    "    ING_USED.append(temp/10)"
   ]
  },
  {
   "cell_type": "code",
   "execution_count": 113,
   "metadata": {
    "collapsed": true
   },
   "outputs": [],
   "source": [
    "ING_USED_ALL.append(ING_USED)"
   ]
  },
  {
   "cell_type": "code",
   "execution_count": 114,
   "metadata": {},
   "outputs": [
    {
     "data": {
      "text/plain": [
       "4"
      ]
     },
     "execution_count": 114,
     "metadata": {},
     "output_type": "execute_result"
    }
   ],
   "source": [
    "len(ING_USED_ALL)"
   ]
  },
  {
   "cell_type": "code",
   "execution_count": 136,
   "metadata": {},
   "outputs": [
    {
     "data": {
      "image/png": "[encoded data removed]",
      "text/plain": [
       "<Figure size 648x648 with 1 Axes>"
      ]
     },
     "metadata": {},
     "output_type": "display_data"
    }
   ],
   "source": [
    "#original plot\n",
    "frequency = defaultdict(int)\n",
    "for each in Recipes:\n",
    "    for ing in Recipes[each]:\n",
    "        frequency[ing]+=1\n",
    "y1 = sorted(frequency.values(),reverse=True)\n",
    "x1 = range(1,len(y1)+1)\n",
    "\n",
    "##CONSTANT RECIPE LENGTH\n",
    "#RANDOM\n",
    "y2 = ING_USED_ALL[0]\n",
    "x2 = range(1,len(y2)+1)\n",
    "#FREQUENCY WEIGHTED FITNESS\n",
    "y3 = ING_USED_ALL[1]\n",
    "x3 = range(1,len(y3)+1)\n",
    "\n",
    "## VARIABLE RECIPE LENGTH\n",
    "#RANDOM\n",
    "y4 = ING_USED_ALL[2]\n",
    "x4 = range(1,len(y4)+1)\n",
    "# #FREQUENCY WEIGHTED FITNESS\n",
    "y5 = ING_USED_ALL[3]\n",
    "x5 = range(1,len(y5)+1)\n",
    "\n",
    "plt.loglog(x2,y2,'-b', label='random: constant length',dashes=[10, 5, 10, 5],linewidth=4)\n",
    "plt.loglog(x4,y4,'#ADD8E6', label='random: variable length recipe',dashes=[10, 5, 10, 5],linewidth=4)\n",
    "\n",
    "plt.loglog(x3,y3,'-g', label='frequency weighted: constant length', linewidth=2)\n",
    "plt.loglog(x5,y5,'#90C380', label='frequency weighted: variable length recipe',linewidth=2)\n",
    "\n",
    "plt.loglog(x1,y1,'-r', label='original distribution',linewidth=5)\n",
    "plt.legend(loc = 'lower left')\n",
    "plt.xlabel('rank of ingredient')\n",
    "plt.ylabel('number of recipes the ingredient occurs in')\n",
    "plt.show()"
   ]
  },
  {
   "cell_type": "markdown",
   "metadata": {},
   "source": [
    "### OBSERVATIONS"
   ]
  },
  {
   "cell_type": "markdown",
   "metadata": {},
   "source": [
    "We see that a constant length of ingredient distribution is same regardless of it being randon or frequency weighted fitness values. \n",
    "\n",
    "The min and max recipe lengths was 0 and 60, however majority of the recipes had fewer ingredients, however there were some large values in the later half (about 27% ). Since we are modifying only 4 ingredients per recipe, and recipe chosen is random, recipe sizes couldn't grow on to values greater than 10."
   ]
  },
  {
   "cell_type": "markdown",
   "metadata": {},
   "source": [
    "### FUTURE WORK"
   ]
  },
  {
   "cell_type": "code",
   "execution_count": null,
   "metadata": {
    "collapsed": true
   },
   "outputs": [],
   "source": [
    "1. Work on region specific culinary evolution.\n"
   ]
  }
 ],
 "metadata": {
  "kernelspec": {
   "display_name": "Python 3",
   "language": "python",
   "name": "python3"
  },
  "language_info": {
   "codemirror_mode": {
    "name": "ipython",
    "version": 3
   },
   "file_extension": ".py",
   "mimetype": "text/x-python",
   "name": "python",
   "nbconvert_exporter": "python",
   "pygments_lexer": "ipython3",
   "version": "3.6.3"
  }
 },
 "nbformat": 4,
 "nbformat_minor": 2
}
